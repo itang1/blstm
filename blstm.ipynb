{
  "nbformat": 4,
  "nbformat_minor": 0,
  "metadata": {
    "colab": {
      "name": "compling final project.ipynb",
      "provenance": [],
      "collapsed_sections": []
    },
    "kernelspec": {
      "display_name": "Python 3",
      "name": "python3"
    }
  },
  "cells": [
    {
      "cell_type": "code",
      "metadata": {
        "id": "fVojUbPCA0Pr"
      },
      "source": [
        "import sys, argparse, io, re, numpy, keras\n",
        "import matplotlib.pyplot as plt\n",
        "from tensorflow.keras.preprocessing.sequence import pad_sequences\n",
        "from tensorflow.keras.models import Sequential\n",
        "from tensorflow.keras.layers import Embedding, LSTM, Dense, Dropout, Bidirectional\n",
        "from tensorflow.keras.preprocessing.text import Tokenizer\n",
        "from tensorflow.keras.optimizers import Adam\n",
        "from tensorflow.keras import regularizers\n",
        "import tensorflow.keras.utils as ku"
      ],
      "execution_count": 1,
      "outputs": []
    },
    {
      "cell_type": "code",
      "metadata": {
        "id": "R8MJuYfSBMZH"
      },
      "source": [
        "def parse_args():\n",
        "    parser = argparse.ArgumentParser(description=\"Gets command line inputs\")\n",
        "    parser.add_argument(\"--epochs\", type=int, default=25, help=\"number of training epochs\")\n",
        "    return parser.parse_args()"
      ],
      "execution_count": 2,
      "outputs": []
    },
    {
      "cell_type": "code",
      "metadata": {
        "id": "eu1pg6-xDSHm",
        "colab": {
          "base_uri": "https://localhost:8080/"
        },
        "outputId": "aa85413b-e917-4c17-f830-e0909ff5909a"
      },
      "source": [
        "def get_data():\n",
        "    path = keras.utils.get_file('nietzsche.txt', origin='https://s3.amazonaws.com/text-datasets/nietzsche.txt')\n",
        "\n",
        "    with io.open(path, encoding='utf-8') as file:\n",
        "      raw_text = file.read()\n",
        "\n",
        "    # raw_text = \"\"\"SUPPOSING that Truth is a woman--what then? Is there not ground for suspecting that all philosophers, in so far as they have been dogmatists, have failed to understand women--that the terrible seriousness and clumsy importunity with which they have usually paid their addresses to Truth, have been unskilled and unseemly methods for winning a woman? Certainly she has never allowed herself to be won; and at present every kind of dogma stands with sad and discouraged mien--IF, indeed, it stands at all! For there are scoffers who maintain that it has fallen, that all dogma lies on the ground--nay more, that it is at its last gasp. But to speak seriously, there are good grounds for hoping that all dogmatizing in philosophy, whatever solemn, whatever conclusive and decided airs it has assumed, may have been only a noble puerilism and tyronism; and probably the time is at hand when it will be once and again understood WHAT has actually sufficed for the basis of such imposing and absolute philosophical edifices as the dogmatists have hitherto reared: perhaps some popular superstition of immemorial time (such as the soul-superstition, which, in the form of subject- and ego-superstition, has not yet ceased doing mischief): perhaps some play upon words, a deception on the part of grammar, or an audacious generalization of very restricted, very personal, very human--all-too-human facts. The philosophy of the dogmatists, it is to be hoped, was only a promise for thousands of years afterwards, as was astrology in still earlier times, in the service of which probably more labour, gold, acuteness, and patience have been spent than on any actual science hitherto: we owe to it, and to its \"super-terrestrial\" pretensions in Asia and Egypt, the grand style of architecture. It seems that in order to inscribe themselves upon the heart of humanity with everlasting claims, all great things have first to wander about the earth as enormous and awe-inspiring caricatures: dogmatic philosophy has been a caricature of this kind--for instance, the Vedanta doctrine in Asia, and Platonism in Europe. Let us not be ungrateful to it, although it must certainly be confessed that the worst, the most tiresome, and the most dangerous of errors hitherto has been a dogmatist error--namely, Plato's invention of Pure Spirit and the Good in Itself. But now when it has been surmounted, when Europe, rid of this nightmare, can again draw breath freely and at least enjoy a healthier--sleep, we, WHOSE DUTY IS WAKEFULNESS ITSELF, are the heirs of all the strength which the struggle against this error has fostered. It amounted to the very inversion of truth, and the denial of the PERSPECTIVE--the fundamental condition--of life, to speak of Spirit and the Good as Plato spoke of them; indeed one might ask, as a physician: \"How did such a malady attack that finest product of antiquity, Plato? Had the wicked Socrates really corrupted him? Was Socrates after all a corrupter of youths, and deserved his hemlock?\" But the struggle against Plato, or--to speak plainer, and for the \"people\"--the struggle against the ecclesiastical oppression of millenniums of Christianity (FOR CHRISTIANITY IS PLATONISM FOR THE \"PEOPLE\"), produced in Europe a magnificent tension of soul, such as had not existed anywhere previously; with such a tensely strained bow one can now aim at the furthest goals. As a matter of fact, the European feels this tension as a state of distress, and twice attempts have been made in grand style to unbend the bow: once by means of Jesuitism, and the second time by means of democratic enlightenment--which, with the aid of liberty of the press and newspaper-reading, might, in fact, bring it about that the spirit would not so easily find itself in \"distress\"! (The Germans invented gunpowder--all credit to them! but they again made things square--they invented printing.) But we, who are neither Jesuits, nor democrats, nor even sufficiently Germans, we GOOD EUROPEANS, and free, VERY free spirits--we have it still, all the distress of spirit and all the tension of its bow! And perhaps also the arrow, the duty, and, who knows? THE GOAL TO AIM AT....\"\"\"\n",
        "    \n",
        "    processed_text = raw_text.lower()\n",
        "\n",
        "    # TODO\n",
        "    # for punct in string.punctuation:\n",
        "    #     text = text.replace(punct, ' '+punct+' ')\n",
        "\n",
        "    processed_text = processed_text.replace('\\n', ' ').replace('\\r', '')\n",
        "    processed_text = re.sub(r'[\\d=_]', r'', processed_text)\n",
        "    processed_text = re.sub(r'(?=[\",;:()])(?<=[^\\s])', r' ', processed_text) # adding spaces around punctuations\n",
        "    processed_text = re.sub(r'(?<=[\",;:()])(?=[^\\s])', r' ', processed_text) # adding spaces around punctuations\n",
        "    processed_text = re.sub(r'(?<=[^\\s])(--)', r' --', processed_text) # adding spaces around punctuations\n",
        "    processed_text = re.sub(r'(--)(?=[^\\s])', r'-- ', processed_text) # adding spaces around punctuations\n",
        "    # print(processed_text)\n",
        "    return processed_text\n",
        "\n",
        "data = get_data()\n",
        "print(data[0:10000])"
      ],
      "execution_count": 3,
      "outputs": [
        {
          "output_type": "stream",
          "text": [
            "Downloading data from https://s3.amazonaws.com/text-datasets/nietzsche.txt\n",
            "606208/600901 [==============================] - 0s 0us/step\n",
            "preface   supposing that truth is a woman -- what then? is there not ground for suspecting that all philosophers , in so far as they have been dogmatists , have failed to understand women -- that the terrible seriousness and clumsy importunity with which they have usually paid their addresses to truth , have been unskilled and unseemly methods for winning a woman? certainly she has never allowed herself to be won ; and at present every kind of dogma stands with sad and discouraged mien -- if , indeed , it stands at all! for there are scoffers who maintain that it has fallen , that all dogma lies on the ground -- nay more , that it is at its last gasp. but to speak seriously , there are good grounds for hoping that all dogmatizing in philosophy , whatever solemn , whatever conclusive and decided airs it has assumed , may have been only a noble puerilism and tyronism ; and probably the time is at hand when it will be once and again understood what has actually sufficed for the basis of such imposing and absolute philosophical edifices as the dogmatists have hitherto reared : perhaps some popular superstition of immemorial time ( such as the soul-superstition , which , in the form of subject- and ego-superstition , has not yet ceased doing mischief ) : perhaps some play upon words , a deception on the part of grammar , or an audacious generalization of very restricted , very personal , very human -- all-too-human facts. the philosophy of the dogmatists , it is to be hoped , was only a promise for thousands of years afterwards , as was astrology in still earlier times , in the service of which probably more labour , gold , acuteness , and patience have been spent than on any actual science hitherto : we owe to it , and to its \" super-terrestrial \" pretensions in asia and egypt , the grand style of architecture. it seems that in order to inscribe themselves upon the heart of humanity with everlasting claims , all great things have first to wander about the earth as enormous and awe-inspiring caricatures : dogmatic philosophy has been a caricature of this kind -- for instance , the vedanta doctrine in asia , and platonism in europe. let us not be ungrateful to it , although it must certainly be confessed that the worst , the most tiresome , and the most dangerous of errors hitherto has been a dogmatist error -- namely , plato's invention of pure spirit and the good in itself. but now when it has been surmounted , when europe , rid of this nightmare , can again draw breath freely and at least enjoy a healthier -- sleep , we , whose duty is wakefulness itself , are the heirs of all the strength which the struggle against this error has fostered. it amounted to the very inversion of truth , and the denial of the perspective -- the fundamental condition -- of life , to speak of spirit and the good as plato spoke of them ; indeed one might ask , as a physician : \" how did such a malady attack that finest product of antiquity , plato? had the wicked socrates really corrupted him? was socrates after all a corrupter of youths , and deserved his hemlock? \" but the struggle against plato , or -- to speak plainer , and for the \" people \" -- the struggle against the ecclesiastical oppression of millenniums of christianity ( for christianity is platonism for the \" people \" ) , produced in europe a magnificent tension of soul , such as had not existed anywhere previously ; with such a tensely strained bow one can now aim at the furthest goals. as a matter of fact , the european feels this tension as a state of distress , and twice attempts have been made in grand style to unbend the bow : once by means of jesuitism , and the second time by means of democratic enlightenment -- which , with the aid of liberty of the press and newspaper-reading , might , in fact , bring it about that the spirit would not so easily find itself in \" distress \" ! ( the germans invented gunpowder -- all credit to them! but they again made things square -- they invented printing. ) but we , who are neither jesuits , nor democrats , nor even sufficiently germans , we good europeans , and free , very free spirits -- we have it still , all the distress of spirit and all the tension of its bow! and perhaps also the arrow , the duty , and , who knows? the goal to aim at....  sils maria upper engadine , june , .     chapter i. prejudices of philosophers   . the will to truth , which is to tempt us to many a hazardous enterprise , the famous truthfulness of which all philosophers have hitherto spoken with respect , what questions has this will to truth not laid before us! what strange , perplexing , questionable questions! it is already a long story ; yet it seems as if it were hardly commenced. is it any wonder if we at last grow distrustful , lose patience , and turn impatiently away? that this sphinx teaches us at last to ask questions ourselves? who is it really that puts questions to us here? what really is this \" will to truth \" in us? in fact we made a long halt at the question as to the origin of this will -- until at last we came to an absolute standstill before a yet more fundamental question. we inquired about the value of this will. granted that we want the truth : why not rather untruth? and uncertainty? even ignorance? the problem of the value of truth presented itself before us -- or was it we who presented ourselves before the problem? which of us is the oedipus here? which the sphinx? it would seem to be a rendezvous of questions and notes of interrogation. and could it be believed that it at last seems to us as if the problem had never been propounded before , as if we were the first to discern it , get a sight of it , and risk raising it? for there is risk in raising it , perhaps there is no greater risk.  . \" how could anything originate out of its opposite? for example , truth out of error? or the will to truth out of the will to deception? or the generous deed out of selfishness? or the pure sun-bright vision of the wise man out of covetousness? such genesis is impossible ; whoever dreams of it is a fool , nay , worse than a fool ; things of the highest value must have a different origin , an origin of their own -- in this transitory , seductive , illusory , paltry world , in this turmoil of delusion and cupidity , they cannot have their source. but rather in the lap of being , in the intransitory , in the concealed god , in the 'thing-in-itself -- there must be their source , and nowhere else! \" -- this mode of reasoning discloses the typical prejudice by which metaphysicians of all times can be recognized , this mode of valuation is at the back of all their logical procedure ; through this \" belief \" of theirs , they exert themselves for their \" knowledge , \" for something that is in the end solemnly christened \" the truth. \" the fundamental belief of metaphysicians is the belief in antitheses of values. it never occurred even to the wariest of them to doubt here on the very threshold ( where doubt , however , was most necessary ) ; though they had made a solemn vow , \" de omnibus dubitandum. \" for it may be doubted , firstly , whether antitheses exist at all ; and secondly , whether the popular valuations and antitheses of value upon which metaphysicians have set their seal , are not perhaps merely superficial estimates , merely provisional perspectives , besides being probably made from some corner , perhaps from below -- \" frog perspectives , \" as it were , to borrow an expression current among painters. in spite of all the value which may belong to the true , the positive , and the unselfish , it might be possible that a higher and more fundamental value for life generally should be assigned to pretence , to the will to delusion , to selfishness , and cupidity. it might even be possible that what constitutes the value of those good and respected things , consists precisely in their being insidiously related , knotted , and crocheted to these evil and apparently opposed things -- perhaps even in being essentially identical with them. perhaps! but who wishes to concern himself with such dangerous \" perhapses \" ! for that investigation one must await the advent of a new order of philosophers , such as will have other tastes and inclinations , the reverse of those hitherto prevalent -- philosophers of the dangerous \" perhaps \" in every sense of the term. and to speak in all seriousness , i see such new philosophers beginning to appear.  . having kept a sharp eye on philosophers , and having read between their lines long enough , i now say to myself that the greater part of conscious thinking must be counted among the instinctive functions , and it is so even in the case of philosophical thinking ; one has here to learn anew , as one learned anew about heredity and \" innateness. \" as little as the act of birth comes into consideration in the whole process and procedure of heredity , just as little is \" being-conscious \" opposed to the instinctive in any decisive sense ; the greater part of the conscious thinking of a philosopher is secretly influenced by his instincts , and forced into definite channels. and behind all logic and its seeming sovereignty of movement , there are valuations , or to speak more plainly , physiological demands , for the maintenance of a definite mode of life for example , that the certain is worth more than the uncertain , that illusion is less valuable than \" truth \" such valuations , in spite of their regulative importance for us , might notwithstanding be only superficial valuations , special kinds of niaiserie , such as may be necessary for the maintenance of beings such as ourselves. supposing , in effect , that man is not just the \" measure of things. \"  . the falseness of an opinion is not for us any objection to it : it is here , perhaps , that our new language sounds most strangely. the question is , how far an opinion is life-furthering , life-preserving , species-preserving , perhaps species-rearing \n"
          ],
          "name": "stdout"
        }
      ]
    },
    {
      "cell_type": "code",
      "metadata": {
        "colab": {
          "base_uri": "https://localhost:8080/"
        },
        "id": "LLrFA5iA_Xa1",
        "outputId": "457cdcdb-a7d4-4f69-faad-92a81e418985"
      },
      "source": [
        "sentences = re.split('[?!.]', data)\n",
        "print(\"Sentences: \")\n",
        "for i in range(20):\n",
        "    print(sentences[i])\n",
        "\n",
        "tokenizer = Tokenizer()\n",
        "tokenizer.fit_on_texts(sentences)\n",
        "number_unique_words = len(tokenizer.word_index) + 1\n",
        "\n",
        "print(\"Number of unique words: \", number_unique_words)"
      ],
      "execution_count": 4,
      "outputs": [
        {
          "output_type": "stream",
          "text": [
            "Sentences: \n",
            "preface   supposing that truth is a woman -- what then\n",
            " is there not ground for suspecting that all philosophers , in so far as they have been dogmatists , have failed to understand women -- that the terrible seriousness and clumsy importunity with which they have usually paid their addresses to truth , have been unskilled and unseemly methods for winning a woman\n",
            " certainly she has never allowed herself to be won ; and at present every kind of dogma stands with sad and discouraged mien -- if , indeed , it stands at all\n",
            " for there are scoffers who maintain that it has fallen , that all dogma lies on the ground -- nay more , that it is at its last gasp\n",
            " but to speak seriously , there are good grounds for hoping that all dogmatizing in philosophy , whatever solemn , whatever conclusive and decided airs it has assumed , may have been only a noble puerilism and tyronism ; and probably the time is at hand when it will be once and again understood what has actually sufficed for the basis of such imposing and absolute philosophical edifices as the dogmatists have hitherto reared : perhaps some popular superstition of immemorial time ( such as the soul-superstition , which , in the form of subject- and ego-superstition , has not yet ceased doing mischief ) : perhaps some play upon words , a deception on the part of grammar , or an audacious generalization of very restricted , very personal , very human -- all-too-human facts\n",
            " the philosophy of the dogmatists , it is to be hoped , was only a promise for thousands of years afterwards , as was astrology in still earlier times , in the service of which probably more labour , gold , acuteness , and patience have been spent than on any actual science hitherto : we owe to it , and to its \" super-terrestrial \" pretensions in asia and egypt , the grand style of architecture\n",
            " it seems that in order to inscribe themselves upon the heart of humanity with everlasting claims , all great things have first to wander about the earth as enormous and awe-inspiring caricatures : dogmatic philosophy has been a caricature of this kind -- for instance , the vedanta doctrine in asia , and platonism in europe\n",
            " let us not be ungrateful to it , although it must certainly be confessed that the worst , the most tiresome , and the most dangerous of errors hitherto has been a dogmatist error -- namely , plato's invention of pure spirit and the good in itself\n",
            " but now when it has been surmounted , when europe , rid of this nightmare , can again draw breath freely and at least enjoy a healthier -- sleep , we , whose duty is wakefulness itself , are the heirs of all the strength which the struggle against this error has fostered\n",
            " it amounted to the very inversion of truth , and the denial of the perspective -- the fundamental condition -- of life , to speak of spirit and the good as plato spoke of them ; indeed one might ask , as a physician : \" how did such a malady attack that finest product of antiquity , plato\n",
            " had the wicked socrates really corrupted him\n",
            " was socrates after all a corrupter of youths , and deserved his hemlock\n",
            " \" but the struggle against plato , or -- to speak plainer , and for the \" people \" -- the struggle against the ecclesiastical oppression of millenniums of christianity ( for christianity is platonism for the \" people \" ) , produced in europe a magnificent tension of soul , such as had not existed anywhere previously ; with such a tensely strained bow one can now aim at the furthest goals\n",
            " as a matter of fact , the european feels this tension as a state of distress , and twice attempts have been made in grand style to unbend the bow : once by means of jesuitism , and the second time by means of democratic enlightenment -- which , with the aid of liberty of the press and newspaper-reading , might , in fact , bring it about that the spirit would not so easily find itself in \" distress \" \n",
            " ( the germans invented gunpowder -- all credit to them\n",
            " but they again made things square -- they invented printing\n",
            " ) but we , who are neither jesuits , nor democrats , nor even sufficiently germans , we good europeans , and free , very free spirits -- we have it still , all the distress of spirit and all the tension of its bow\n",
            " and perhaps also the arrow , the duty , and , who knows\n",
            " the goal to aim at\n",
            "\n",
            "Number of unique words:  9959\n"
          ],
          "name": "stdout"
        }
      ]
    },
    {
      "cell_type": "code",
      "metadata": {
        "colab": {
          "base_uri": "https://localhost:8080/"
        },
        "id": "RJ74To7Z_8Sc",
        "outputId": "921437d6-9346-4172-f8ae-1f7acc5be405"
      },
      "source": [
        "# create input sequences using tokens lists\n",
        "input_sequences = []\n",
        "for sentence in sentences:\n",
        "    tokens = tokenizer.texts_to_sequences([sentence])[0]\n",
        "\n",
        "    for i in range(1, len(tokens)):\n",
        "        chain = tokens[:i+1]\n",
        "        input_sequences.append(chain)\n",
        "\n",
        "print(input_sequences[0:200])"
      ],
      "execution_count": 5,
      "outputs": [
        {
          "output_type": "stream",
          "text": [
            "[[3526, 573], [3526, 573, 8], [3526, 573, 8, 116], [3526, 573, 8, 116, 6], [3526, 573, 8, 116, 6, 7], [3526, 573, 8, 116, 6, 7, 145], [3526, 573, 8, 116, 6, 7, 145, 40], [3526, 573, 8, 116, 6, 7, 145, 40, 141], [6, 39], [6, 39, 14], [6, 39, 14, 1014], [6, 39, 14, 1014, 11], [6, 39, 14, 1014, 11, 5138], [6, 39, 14, 1014, 11, 5138, 8], [6, 39, 14, 1014, 11, 5138, 8, 17], [6, 39, 14, 1014, 11, 5138, 8, 17, 162], [6, 39, 14, 1014, 11, 5138, 8, 17, 162, 5], [6, 39, 14, 1014, 11, 5138, 8, 17, 162, 5, 37], [6, 39, 14, 1014, 11, 5138, 8, 17, 162, 5, 37, 117], [6, 39, 14, 1014, 11, 5138, 8, 17, 162, 5, 37, 117, 10], [6, 39, 14, 1014, 11, 5138, 8, 17, 162, 5, 37, 117, 10, 29], [6, 39, 14, 1014, 11, 5138, 8, 17, 162, 5, 37, 117, 10, 29, 26], [6, 39, 14, 1014, 11, 5138, 8, 17, 162, 5, 37, 117, 10, 29, 26, 57], [6, 39, 14, 1014, 11, 5138, 8, 17, 162, 5, 37, 117, 10, 29, 26, 57, 2154], [6, 39, 14, 1014, 11, 5138, 8, 17, 162, 5, 37, 117, 10, 29, 26, 57, 2154, 26], [6, 39, 14, 1014, 11, 5138, 8, 17, 162, 5, 37, 117, 10, 29, 26, 57, 2154, 26, 3527], [6, 39, 14, 1014, 11, 5138, 8, 17, 162, 5, 37, 117, 10, 29, 26, 57, 2154, 26, 3527, 4], [6, 39, 14, 1014, 11, 5138, 8, 17, 162, 5, 37, 117, 10, 29, 26, 57, 2154, 26, 3527, 4, 262], [6, 39, 14, 1014, 11, 5138, 8, 17, 162, 5, 37, 117, 10, 29, 26, 57, 2154, 26, 3527, 4, 262, 609], [6, 39, 14, 1014, 11, 5138, 8, 17, 162, 5, 37, 117, 10, 29, 26, 57, 2154, 26, 3527, 4, 262, 609, 8], [6, 39, 14, 1014, 11, 5138, 8, 17, 162, 5, 37, 117, 10, 29, 26, 57, 2154, 26, 3527, 4, 262, 609, 8, 1], [6, 39, 14, 1014, 11, 5138, 8, 17, 162, 5, 37, 117, 10, 29, 26, 57, 2154, 26, 3527, 4, 262, 609, 8, 1, 574], [6, 39, 14, 1014, 11, 5138, 8, 17, 162, 5, 37, 117, 10, 29, 26, 57, 2154, 26, 3527, 4, 262, 609, 8, 1, 574, 690], [6, 39, 14, 1014, 11, 5138, 8, 17, 162, 5, 37, 117, 10, 29, 26, 57, 2154, 26, 3527, 4, 262, 609, 8, 1, 574, 690, 3], [6, 39, 14, 1014, 11, 5138, 8, 17, 162, 5, 37, 117, 10, 29, 26, 57, 2154, 26, 3527, 4, 262, 609, 8, 1, 574, 690, 3, 1015], [6, 39, 14, 1014, 11, 5138, 8, 17, 162, 5, 37, 117, 10, 29, 26, 57, 2154, 26, 3527, 4, 262, 609, 8, 1, 574, 690, 3, 1015, 5139], [6, 39, 14, 1014, 11, 5138, 8, 17, 162, 5, 37, 117, 10, 29, 26, 57, 2154, 26, 3527, 4, 262, 609, 8, 1, 574, 690, 3, 1015, 5139, 15], [6, 39, 14, 1014, 11, 5138, 8, 17, 162, 5, 37, 117, 10, 29, 26, 57, 2154, 26, 3527, 4, 262, 609, 8, 1, 574, 690, 3, 1015, 5139, 15, 12], [6, 39, 14, 1014, 11, 5138, 8, 17, 162, 5, 37, 117, 10, 29, 26, 57, 2154, 26, 3527, 4, 262, 609, 8, 1, 574, 690, 3, 1015, 5139, 15, 12, 29], [6, 39, 14, 1014, 11, 5138, 8, 17, 162, 5, 37, 117, 10, 29, 26, 57, 2154, 26, 3527, 4, 262, 609, 8, 1, 574, 690, 3, 1015, 5139, 15, 12, 29, 26], [6, 39, 14, 1014, 11, 5138, 8, 17, 162, 5, 37, 117, 10, 29, 26, 57, 2154, 26, 3527, 4, 262, 609, 8, 1, 574, 690, 3, 1015, 5139, 15, 12, 29, 26, 790], [6, 39, 14, 1014, 11, 5138, 8, 17, 162, 5, 37, 117, 10, 29, 26, 57, 2154, 26, 3527, 4, 262, 609, 8, 1, 574, 690, 3, 1015, 5139, 15, 12, 29, 26, 790, 2688], [6, 39, 14, 1014, 11, 5138, 8, 17, 162, 5, 37, 117, 10, 29, 26, 57, 2154, 26, 3527, 4, 262, 609, 8, 1, 574, 690, 3, 1015, 5139, 15, 12, 29, 26, 790, 2688, 32], [6, 39, 14, 1014, 11, 5138, 8, 17, 162, 5, 37, 117, 10, 29, 26, 57, 2154, 26, 3527, 4, 262, 609, 8, 1, 574, 690, 3, 1015, 5139, 15, 12, 29, 26, 790, 2688, 32, 3528], [6, 39, 14, 1014, 11, 5138, 8, 17, 162, 5, 37, 117, 10, 29, 26, 57, 2154, 26, 3527, 4, 262, 609, 8, 1, 574, 690, 3, 1015, 5139, 15, 12, 29, 26, 790, 2688, 32, 3528, 4], [6, 39, 14, 1014, 11, 5138, 8, 17, 162, 5, 37, 117, 10, 29, 26, 57, 2154, 26, 3527, 4, 262, 609, 8, 1, 574, 690, 3, 1015, 5139, 15, 12, 29, 26, 790, 2688, 32, 3528, 4, 116], [6, 39, 14, 1014, 11, 5138, 8, 17, 162, 5, 37, 117, 10, 29, 26, 57, 2154, 26, 3527, 4, 262, 609, 8, 1, 574, 690, 3, 1015, 5139, 15, 12, 29, 26, 790, 2688, 32, 3528, 4, 116, 26], [6, 39, 14, 1014, 11, 5138, 8, 17, 162, 5, 37, 117, 10, 29, 26, 57, 2154, 26, 3527, 4, 262, 609, 8, 1, 574, 690, 3, 1015, 5139, 15, 12, 29, 26, 790, 2688, 32, 3528, 4, 116, 26, 57], [6, 39, 14, 1014, 11, 5138, 8, 17, 162, 5, 37, 117, 10, 29, 26, 57, 2154, 26, 3527, 4, 262, 609, 8, 1, 574, 690, 3, 1015, 5139, 15, 12, 29, 26, 790, 2688, 32, 3528, 4, 116, 26, 57, 5140], [6, 39, 14, 1014, 11, 5138, 8, 17, 162, 5, 37, 117, 10, 29, 26, 57, 2154, 26, 3527, 4, 262, 609, 8, 1, 574, 690, 3, 1015, 5139, 15, 12, 29, 26, 790, 2688, 32, 3528, 4, 116, 26, 57, 5140, 3], [6, 39, 14, 1014, 11, 5138, 8, 17, 162, 5, 37, 117, 10, 29, 26, 57, 2154, 26, 3527, 4, 262, 609, 8, 1, 574, 690, 3, 1015, 5139, 15, 12, 29, 26, 790, 2688, 32, 3528, 4, 116, 26, 57, 5140, 3, 2689], [6, 39, 14, 1014, 11, 5138, 8, 17, 162, 5, 37, 117, 10, 29, 26, 57, 2154, 26, 3527, 4, 262, 609, 8, 1, 574, 690, 3, 1015, 5139, 15, 12, 29, 26, 790, 2688, 32, 3528, 4, 116, 26, 57, 5140, 3, 2689, 1218], [6, 39, 14, 1014, 11, 5138, 8, 17, 162, 5, 37, 117, 10, 29, 26, 57, 2154, 26, 3527, 4, 262, 609, 8, 1, 574, 690, 3, 1015, 5139, 15, 12, 29, 26, 790, 2688, 32, 3528, 4, 116, 26, 57, 5140, 3, 2689, 1218, 11], [6, 39, 14, 1014, 11, 5138, 8, 17, 162, 5, 37, 117, 10, 29, 26, 57, 2154, 26, 3527, 4, 262, 609, 8, 1, 574, 690, 3, 1015, 5139, 15, 12, 29, 26, 790, 2688, 32, 3528, 4, 116, 26, 57, 5140, 3, 2689, 1218, 11, 5141], [6, 39, 14, 1014, 11, 5138, 8, 17, 162, 5, 37, 117, 10, 29, 26, 57, 2154, 26, 3527, 4, 262, 609, 8, 1, 574, 690, 3, 1015, 5139, 15, 12, 29, 26, 790, 2688, 32, 3528, 4, 116, 26, 57, 5140, 3, 2689, 1218, 11, 5141, 7], [6, 39, 14, 1014, 11, 5138, 8, 17, 162, 5, 37, 117, 10, 29, 26, 57, 2154, 26, 3527, 4, 262, 609, 8, 1, 574, 690, 3, 1015, 5139, 15, 12, 29, 26, 790, 2688, 32, 3528, 4, 116, 26, 57, 5140, 3, 2689, 1218, 11, 5141, 7, 145], [378, 291], [378, 291, 22], [378, 291, 22, 233], [378, 291, 22, 233, 791], [378, 291, 22, 233, 791, 610], [378, 291, 22, 233, 791, 610, 4], [378, 291, 22, 233, 791, 610, 4, 13], [378, 291, 22, 233, 791, 610, 4, 13, 2690], [378, 291, 22, 233, 791, 610, 4, 13, 2690, 3], [378, 291, 22, 233, 791, 610, 4, 13, 2690, 3, 27], [378, 291, 22, 233, 791, 610, 4, 13, 2690, 3, 27, 134], [378, 291, 22, 233, 791, 610, 4, 13, 2690, 3, 27, 134, 56], [378, 291, 22, 233, 791, 610, 4, 13, 2690, 3, 27, 134, 56, 190], [378, 291, 22, 233, 791, 610, 4, 13, 2690, 3, 27, 134, 56, 190, 2], [378, 291, 22, 233, 791, 610, 4, 13, 2690, 3, 27, 134, 56, 190, 2, 1541], [378, 291, 22, 233, 791, 610, 4, 13, 2690, 3, 27, 134, 56, 190, 2, 1541, 691], [378, 291, 22, 233, 791, 610, 4, 13, 2690, 3, 27, 134, 56, 190, 2, 1541, 691, 15], [378, 291, 22, 233, 791, 610, 4, 13, 2690, 3, 27, 134, 56, 190, 2, 1541, 691, 15, 1363], [378, 291, 22, 233, 791, 610, 4, 13, 2690, 3, 27, 134, 56, 190, 2, 1541, 691, 15, 1363, 3], [378, 291, 22, 233, 791, 610, 4, 13, 2690, 3, 27, 134, 56, 190, 2, 1541, 691, 15, 1363, 3, 5142], [378, 291, 22, 233, 791, 610, 4, 13, 2690, 3, 27, 134, 56, 190, 2, 1541, 691, 15, 1363, 3, 5142, 5143], [378, 291, 22, 233, 791, 610, 4, 13, 2690, 3, 27, 134, 56, 190, 2, 1541, 691, 15, 1363, 3, 5142, 5143, 53], [378, 291, 22, 233, 791, 610, 4, 13, 2690, 3, 27, 134, 56, 190, 2, 1541, 691, 15, 1363, 3, 5142, 5143, 53, 187], [378, 291, 22, 233, 791, 610, 4, 13, 2690, 3, 27, 134, 56, 190, 2, 1541, 691, 15, 1363, 3, 5142, 5143, 53, 187, 9], [378, 291, 22, 233, 791, 610, 4, 13, 2690, 3, 27, 134, 56, 190, 2, 1541, 691, 15, 1363, 3, 5142, 5143, 53, 187, 9, 691], [378, 291, 22, 233, 791, 610, 4, 13, 2690, 3, 27, 134, 56, 190, 2, 1541, 691, 15, 1363, 3, 5142, 5143, 53, 187, 9, 691, 27], [378, 291, 22, 233, 791, 610, 4, 13, 2690, 3, 27, 134, 56, 190, 2, 1541, 691, 15, 1363, 3, 5142, 5143, 53, 187, 9, 691, 27, 17], [11, 39], [11, 39, 19], [11, 39, 19, 5144], [11, 39, 19, 5144, 30], [11, 39, 19, 5144, 30, 1016], [11, 39, 19, 5144, 30, 1016, 8], [11, 39, 19, 5144, 30, 1016, 8, 9], [11, 39, 19, 5144, 30, 1016, 8, 9, 22], [11, 39, 19, 5144, 30, 1016, 8, 9, 22, 2691], [11, 39, 19, 5144, 30, 1016, 8, 9, 22, 2691, 8], [11, 39, 19, 5144, 30, 1016, 8, 9, 22, 2691, 8, 17], [11, 39, 19, 5144, 30, 1016, 8, 9, 22, 2691, 8, 17, 1541], [11, 39, 19, 5144, 30, 1016, 8, 9, 22, 2691, 8, 17, 1541, 1219], [11, 39, 19, 5144, 30, 1016, 8, 9, 22, 2691, 8, 17, 1541, 1219, 41], [11, 39, 19, 5144, 30, 1016, 8, 9, 22, 2691, 8, 17, 1541, 1219, 41, 1], [11, 39, 19, 5144, 30, 1016, 8, 9, 22, 2691, 8, 17, 1541, 1219, 41, 1, 1014], [11, 39, 19, 5144, 30, 1016, 8, 9, 22, 2691, 8, 17, 1541, 1219, 41, 1, 1014, 792], [11, 39, 19, 5144, 30, 1016, 8, 9, 22, 2691, 8, 17, 1541, 1219, 41, 1, 1014, 792, 34], [11, 39, 19, 5144, 30, 1016, 8, 9, 22, 2691, 8, 17, 1541, 1219, 41, 1, 1014, 792, 34, 8], [11, 39, 19, 5144, 30, 1016, 8, 9, 22, 2691, 8, 17, 1541, 1219, 41, 1, 1014, 792, 34, 8, 9], [11, 39, 19, 5144, 30, 1016, 8, 9, 22, 2691, 8, 17, 1541, 1219, 41, 1, 1014, 792, 34, 8, 9, 6], [11, 39, 19, 5144, 30, 1016, 8, 9, 22, 2691, 8, 17, 1541, 1219, 41, 1, 1014, 792, 34, 8, 9, 6, 27], [11, 39, 19, 5144, 30, 1016, 8, 9, 22, 2691, 8, 17, 1541, 1219, 41, 1, 1014, 792, 34, 8, 9, 6, 27, 38], [11, 39, 19, 5144, 30, 1016, 8, 9, 22, 2691, 8, 17, 1541, 1219, 41, 1, 1014, 792, 34, 8, 9, 6, 27, 38, 159], [11, 39, 19, 5144, 30, 1016, 8, 9, 22, 2691, 8, 17, 1541, 1219, 41, 1, 1014, 792, 34, 8, 9, 6, 27, 38, 159, 5145], [25, 4], [25, 4, 411], [25, 4, 411, 1017], [25, 4, 411, 1017, 39], [25, 4, 411, 1017, 39, 19], [25, 4, 411, 1017, 39, 19, 62], [25, 4, 411, 1017, 39, 19, 62, 1797], [25, 4, 411, 1017, 39, 19, 62, 1797, 11], [25, 4, 411, 1017, 39, 19, 62, 1797, 11, 5146], [25, 4, 411, 1017, 39, 19, 62, 1797, 11, 5146, 8], [25, 4, 411, 1017, 39, 19, 62, 1797, 11, 5146, 8, 17], [25, 4, 411, 1017, 39, 19, 62, 1797, 11, 5146, 8, 17, 5147], [25, 4, 411, 1017, 39, 19, 62, 1797, 11, 5146, 8, 17, 5147, 5], [25, 4, 411, 1017, 39, 19, 62, 1797, 11, 5146, 8, 17, 5147, 5, 127], [25, 4, 411, 1017, 39, 19, 62, 1797, 11, 5146, 8, 17, 5147, 5, 127, 234], [25, 4, 411, 1017, 39, 19, 62, 1797, 11, 5146, 8, 17, 5147, 5, 127, 234, 2155], [25, 4, 411, 1017, 39, 19, 62, 1797, 11, 5146, 8, 17, 5147, 5, 127, 234, 2155, 234], [25, 4, 411, 1017, 39, 19, 62, 1797, 11, 5146, 8, 17, 5147, 5, 127, 234, 2155, 234, 5148], [25, 4, 411, 1017, 39, 19, 62, 1797, 11, 5146, 8, 17, 5147, 5, 127, 234, 2155, 234, 5148, 3], [25, 4, 411, 1017, 39, 19, 62, 1797, 11, 5146, 8, 17, 5147, 5, 127, 234, 2155, 234, 5148, 3, 1018], [25, 4, 411, 1017, 39, 19, 62, 1797, 11, 5146, 8, 17, 5147, 5, 127, 234, 2155, 234, 5148, 3, 1018, 3529], [25, 4, 411, 1017, 39, 19, 62, 1797, 11, 5146, 8, 17, 5147, 5, 127, 234, 2155, 234, 5148, 3, 1018, 3529, 9], [25, 4, 411, 1017, 39, 19, 62, 1797, 11, 5146, 8, 17, 5147, 5, 127, 234, 2155, 234, 5148, 3, 1018, 3529, 9, 22], [25, 4, 411, 1017, 39, 19, 62, 1797, 11, 5146, 8, 17, 5147, 5, 127, 234, 2155, 234, 5148, 3, 1018, 3529, 9, 22, 1798], [25, 4, 411, 1017, 39, 19, 62, 1797, 11, 5146, 8, 17, 5147, 5, 127, 234, 2155, 234, 5148, 3, 1018, 3529, 9, 22, 1798, 64], [25, 4, 411, 1017, 39, 19, 62, 1797, 11, 5146, 8, 17, 5147, 5, 127, 234, 2155, 234, 5148, 3, 1018, 3529, 9, 22, 1798, 64, 26], [25, 4, 411, 1017, 39, 19, 62, 1797, 11, 5146, 8, 17, 5147, 5, 127, 234, 2155, 234, 5148, 3, 1018, 3529, 9, 22, 1798, 64, 26, 57], [25, 4, 411, 1017, 39, 19, 62, 1797, 11, 5146, 8, 17, 5147, 5, 127, 234, 2155, 234, 5148, 3, 1018, 3529, 9, 22, 1798, 64, 26, 57, 45], [25, 4, 411, 1017, 39, 19, 62, 1797, 11, 5146, 8, 17, 5147, 5, 127, 234, 2155, 234, 5148, 3, 1018, 3529, 9, 22, 1798, 64, 26, 57, 45, 7], [25, 4, 411, 1017, 39, 19, 62, 1797, 11, 5146, 8, 17, 5147, 5, 127, 234, 2155, 234, 5148, 3, 1018, 3529, 9, 22, 1798, 64, 26, 57, 45, 7, 200], [25, 4, 411, 1017, 39, 19, 62, 1797, 11, 5146, 8, 17, 5147, 5, 127, 234, 2155, 234, 5148, 3, 1018, 3529, 9, 22, 1798, 64, 26, 57, 45, 7, 200, 5149], [25, 4, 411, 1017, 39, 19, 62, 1797, 11, 5146, 8, 17, 5147, 5, 127, 234, 2155, 234, 5148, 3, 1018, 3529, 9, 22, 1798, 64, 26, 57, 45, 7, 200, 5149, 3], [25, 4, 411, 1017, 39, 19, 62, 1797, 11, 5146, 8, 17, 5147, 5, 127, 234, 2155, 234, 5148, 3, 1018, 3529, 9, 22, 1798, 64, 26, 57, 45, 7, 200, 5149, 3, 5150], [25, 4, 411, 1017, 39, 19, 62, 1797, 11, 5146, 8, 17, 5147, 5, 127, 234, 2155, 234, 5148, 3, 1018, 3529, 9, 22, 1798, 64, 26, 57, 45, 7, 200, 5149, 3, 5150, 3], [25, 4, 411, 1017, 39, 19, 62, 1797, 11, 5146, 8, 17, 5147, 5, 127, 234, 2155, 234, 5148, 3, 1018, 3529, 9, 22, 1798, 64, 26, 57, 45, 7, 200, 5149, 3, 5150, 3, 379], [25, 4, 411, 1017, 39, 19, 62, 1797, 11, 5146, 8, 17, 5147, 5, 127, 234, 2155, 234, 5148, 3, 1018, 3529, 9, 22, 1798, 64, 26, 57, 45, 7, 200, 5149, 3, 5150, 3, 379, 1], [25, 4, 411, 1017, 39, 19, 62, 1797, 11, 5146, 8, 17, 5147, 5, 127, 234, 2155, 234, 5148, 3, 1018, 3529, 9, 22, 1798, 64, 26, 57, 45, 7, 200, 5149, 3, 5150, 3, 379, 1, 93], [25, 4, 411, 1017, 39, 19, 62, 1797, 11, 5146, 8, 17, 5147, 5, 127, 234, 2155, 234, 5148, 3, 1018, 3529, 9, 22, 1798, 64, 26, 57, 45, 7, 200, 5149, 3, 5150, 3, 379, 1, 93, 6], [25, 4, 411, 1017, 39, 19, 62, 1797, 11, 5146, 8, 17, 5147, 5, 127, 234, 2155, 234, 5148, 3, 1018, 3529, 9, 22, 1798, 64, 26, 57, 45, 7, 200, 5149, 3, 5150, 3, 379, 1, 93, 6, 27], [25, 4, 411, 1017, 39, 19, 62, 1797, 11, 5146, 8, 17, 5147, 5, 127, 234, 2155, 234, 5148, 3, 1018, 3529, 9, 22, 1798, 64, 26, 57, 45, 7, 200, 5149, 3, 5150, 3, 379, 1, 93, 6, 27, 203], [25, 4, 411, 1017, 39, 19, 62, 1797, 11, 5146, 8, 17, 5147, 5, 127, 234, 2155, 234, 5148, 3, 1018, 3529, 9, 22, 1798, 64, 26, 57, 45, 7, 200, 5149, 3, 5150, 3, 379, 1, 93, 6, 27, 203, 52], [25, 4, 411, 1017, 39, 19, 62, 1797, 11, 5146, 8, 17, 5147, 5, 127, 234, 2155, 234, 5148, 3, 1018, 3529, 9, 22, 1798, 64, 26, 57, 45, 7, 200, 5149, 3, 5150, 3, 379, 1, 93, 6, 27, 203, 52, 9], [25, 4, 411, 1017, 39, 19, 62, 1797, 11, 5146, 8, 17, 5147, 5, 127, 234, 2155, 234, 5148, 3, 1018, 3529, 9, 22, 1798, 64, 26, 57, 45, 7, 200, 5149, 3, 5150, 3, 379, 1, 93, 6, 27, 203, 52, 9, 35], [25, 4, 411, 1017, 39, 19, 62, 1797, 11, 5146, 8, 17, 5147, 5, 127, 234, 2155, 234, 5148, 3, 1018, 3529, 9, 22, 1798, 64, 26, 57, 45, 7, 200, 5149, 3, 5150, 3, 379, 1, 93, 6, 27, 203, 52, 9, 35, 13], [25, 4, 411, 1017, 39, 19, 62, 1797, 11, 5146, 8, 17, 5147, 5, 127, 234, 2155, 234, 5148, 3, 1018, 3529, 9, 22, 1798, 64, 26, 57, 45, 7, 200, 5149, 3, 5150, 3, 379, 1, 93, 6, 27, 203, 52, 9, 35, 13, 168], [25, 4, 411, 1017, 39, 19, 62, 1797, 11, 5146, 8, 17, 5147, 5, 127, 234, 2155, 234, 5148, 3, 1018, 3529, 9, 22, 1798, 64, 26, 57, 45, 7, 200, 5149, 3, 5150, 3, 379, 1, 93, 6, 27, 203, 52, 9, 35, 13, 168, 3], [25, 4, 411, 1017, 39, 19, 62, 1797, 11, 5146, 8, 17, 5147, 5, 127, 234, 2155, 234, 5148, 3, 1018, 3529, 9, 22, 1798, 64, 26, 57, 45, 7, 200, 5149, 3, 5150, 3, 379, 1, 93, 6, 27, 203, 52, 9, 35, 13, 168, 3, 214], [25, 4, 411, 1017, 39, 19, 62, 1797, 11, 5146, 8, 17, 5147, 5, 127, 234, 2155, 234, 5148, 3, 1018, 3529, 9, 22, 1798, 64, 26, 57, 45, 7, 200, 5149, 3, 5150, 3, 379, 1, 93, 6, 27, 203, 52, 9, 35, 13, 168, 3, 214, 452], [25, 4, 411, 1017, 39, 19, 62, 1797, 11, 5146, 8, 17, 5147, 5, 127, 234, 2155, 234, 5148, 3, 1018, 3529, 9, 22, 1798, 64, 26, 57, 45, 7, 200, 5149, 3, 5150, 3, 379, 1, 93, 6, 27, 203, 52, 9, 35, 13, 168, 3, 214, 452, 40], [25, 4, 411, 1017, 39, 19, 62, 1797, 11, 5146, 8, 17, 5147, 5, 127, 234, 2155, 234, 5148, 3, 1018, 3529, 9, 22, 1798, 64, 26, 57, 45, 7, 200, 5149, 3, 5150, 3, 379, 1, 93, 6, 27, 203, 52, 9, 35, 13, 168, 3, 214, 452, 40, 22], [25, 4, 411, 1017, 39, 19, 62, 1797, 11, 5146, 8, 17, 5147, 5, 127, 234, 2155, 234, 5148, 3, 1018, 3529, 9, 22, 1798, 64, 26, 57, 45, 7, 200, 5149, 3, 5150, 3, 379, 1, 93, 6, 27, 203, 52, 9, 35, 13, 168, 3, 214, 452, 40, 22, 611], [25, 4, 411, 1017, 39, 19, 62, 1797, 11, 5146, 8, 17, 5147, 5, 127, 234, 2155, 234, 5148, 3, 1018, 3529, 9, 22, 1798, 64, 26, 57, 45, 7, 200, 5149, 3, 5150, 3, 379, 1, 93, 6, 27, 203, 52, 9, 35, 13, 168, 3, 214, 452, 40, 22, 611, 5151], [25, 4, 411, 1017, 39, 19, 62, 1797, 11, 5146, 8, 17, 5147, 5, 127, 234, 2155, 234, 5148, 3, 1018, 3529, 9, 22, 1798, 64, 26, 57, 45, 7, 200, 5149, 3, 5150, 3, 379, 1, 93, 6, 27, 203, 52, 9, 35, 13, 168, 3, 214, 452, 40, 22, 611, 5151, 11], [25, 4, 411, 1017, 39, 19, 62, 1797, 11, 5146, 8, 17, 5147, 5, 127, 234, 2155, 234, 5148, 3, 1018, 3529, 9, 22, 1798, 64, 26, 57, 45, 7, 200, 5149, 3, 5150, 3, 379, 1, 93, 6, 27, 203, 52, 9, 35, 13, 168, 3, 214, 452, 40, 22, 611, 5151, 11, 1], [25, 4, 411, 1017, 39, 19, 62, 1797, 11, 5146, 8, 17, 5147, 5, 127, 234, 2155, 234, 5148, 3, 1018, 3529, 9, 22, 1798, 64, 26, 57, 45, 7, 200, 5149, 3, 5150, 3, 379, 1, 93, 6, 27, 203, 52, 9, 35, 13, 168, 3, 214, 452, 40, 22, 611, 5151, 11, 1, 425], [25, 4, 411, 1017, 39, 19, 62, 1797, 11, 5146, 8, 17, 5147, 5, 127, 234, 2155, 234, 5148, 3, 1018, 3529, 9, 22, 1798, 64, 26, 57, 45, 7, 200, 5149, 3, 5150, 3, 379, 1, 93, 6, 27, 203, 52, 9, 35, 13, 168, 3, 214, 452, 40, 22, 611, 5151, 11, 1, 425, 2], [25, 4, 411, 1017, 39, 19, 62, 1797, 11, 5146, 8, 17, 5147, 5, 127, 234, 2155, 234, 5148, 3, 1018, 3529, 9, 22, 1798, 64, 26, 57, 45, 7, 200, 5149, 3, 5150, 3, 379, 1, 93, 6, 27, 203, 52, 9, 35, 13, 168, 3, 214, 452, 40, 22, 611, 5151, 11, 1, 425, 2, 43], [25, 4, 411, 1017, 39, 19, 62, 1797, 11, 5146, 8, 17, 5147, 5, 127, 234, 2155, 234, 5148, 3, 1018, 3529, 9, 22, 1798, 64, 26, 57, 45, 7, 200, 5149, 3, 5150, 3, 379, 1, 93, 6, 27, 203, 52, 9, 35, 13, 168, 3, 214, 452, 40, 22, 611, 5151, 11, 1, 425, 2, 43, 3530], [25, 4, 411, 1017, 39, 19, 62, 1797, 11, 5146, 8, 17, 5147, 5, 127, 234, 2155, 234, 5148, 3, 1018, 3529, 9, 22, 1798, 64, 26, 57, 45, 7, 200, 5149, 3, 5150, 3, 379, 1, 93, 6, 27, 203, 52, 9, 35, 13, 168, 3, 214, 452, 40, 22, 611, 5151, 11, 1, 425, 2, 43, 3530, 3], [25, 4, 411, 1017, 39, 19, 62, 1797, 11, 5146, 8, 17, 5147, 5, 127, 234, 2155, 234, 5148, 3, 1018, 3529, 9, 22, 1798, 64, 26, 57, 45, 7, 200, 5149, 3, 5150, 3, 379, 1, 93, 6, 27, 203, 52, 9, 35, 13, 168, 3, 214, 452, 40, 22, 611, 5151, 11, 1, 425, 2, 43, 3530, 3, 484], [25, 4, 411, 1017, 39, 19, 62, 1797, 11, 5146, 8, 17, 5147, 5, 127, 234, 2155, 234, 5148, 3, 1018, 3529, 9, 22, 1798, 64, 26, 57, 45, 7, 200, 5149, 3, 5150, 3, 379, 1, 93, 6, 27, 203, 52, 9, 35, 13, 168, 3, 214, 452, 40, 22, 611, 5151, 11, 1, 425, 2, 43, 3530, 3, 484, 442], [25, 4, 411, 1017, 39, 19, 62, 1797, 11, 5146, 8, 17, 5147, 5, 127, 234, 2155, 234, 5148, 3, 1018, 3529, 9, 22, 1798, 64, 26, 57, 45, 7, 200, 5149, 3, 5150, 3, 379, 1, 93, 6, 27, 203, 52, 9, 35, 13, 168, 3, 214, 452, 40, 22, 611, 5151, 11, 1, 425, 2, 43, 3530, 3, 484, 442, 5152], [25, 4, 411, 1017, 39, 19, 62, 1797, 11, 5146, 8, 17, 5147, 5, 127, 234, 2155, 234, 5148, 3, 1018, 3529, 9, 22, 1798, 64, 26, 57, 45, 7, 200, 5149, 3, 5150, 3, 379, 1, 93, 6, 27, 203, 52, 9, 35, 13, 168, 3, 214, 452, 40, 22, 611, 5151, 11, 1, 425, 2, 43, 3530, 3, 484, 442, 5152, 10], [25, 4, 411, 1017, 39, 19, 62, 1797, 11, 5146, 8, 17, 5147, 5, 127, 234, 2155, 234, 5148, 3, 1018, 3529, 9, 22, 1798, 64, 26, 57, 45, 7, 200, 5149, 3, 5150, 3, 379, 1, 93, 6, 27, 203, 52, 9, 35, 13, 168, 3, 214, 452, 40, 22, 611, 5151, 11, 1, 425, 2, 43, 3530, 3, 484, 442, 5152, 10, 1], [25, 4, 411, 1017, 39, 19, 62, 1797, 11, 5146, 8, 17, 5147, 5, 127, 234, 2155, 234, 5148, 3, 1018, 3529, 9, 22, 1798, 64, 26, 57, 45, 7, 200, 5149, 3, 5150, 3, 379, 1, 93, 6, 27, 203, 52, 9, 35, 13, 168, 3, 214, 452, 40, 22, 611, 5151, 11, 1, 425, 2, 43, 3530, 3, 484, 442, 5152, 10, 1, 2154], [25, 4, 411, 1017, 39, 19, 62, 1797, 11, 5146, 8, 17, 5147, 5, 127, 234, 2155, 234, 5148, 3, 1018, 3529, 9, 22, 1798, 64, 26, 57, 45, 7, 200, 5149, 3, 5150, 3, 379, 1, 93, 6, 27, 203, 52, 9, 35, 13, 168, 3, 214, 452, 40, 22, 611, 5151, 11, 1, 425, 2, 43, 3530, 3, 484, 442, 5152, 10, 1, 2154, 26], [25, 4, 411, 1017, 39, 19, 62, 1797, 11, 5146, 8, 17, 5147, 5, 127, 234, 2155, 234, 5148, 3, 1018, 3529, 9, 22, 1798, 64, 26, 57, 45, 7, 200, 5149, 3, 5150, 3, 379, 1, 93, 6, 27, 203, 52, 9, 35, 13, 168, 3, 214, 452, 40, 22, 611, 5151, 11, 1, 425, 2, 43, 3530, 3, 484, 442, 5152, 10, 1, 2154, 26, 166], [25, 4, 411, 1017, 39, 19, 62, 1797, 11, 5146, 8, 17, 5147, 5, 127, 234, 2155, 234, 5148, 3, 1018, 3529, 9, 22, 1798, 64, 26, 57, 45, 7, 200, 5149, 3, 5150, 3, 379, 1, 93, 6, 27, 203, 52, 9, 35, 13, 168, 3, 214, 452, 40, 22, 611, 5151, 11, 1, 425, 2, 43, 3530, 3, 484, 442, 5152, 10, 1, 2154, 26, 166, 1799], [25, 4, 411, 1017, 39, 19, 62, 1797, 11, 5146, 8, 17, 5147, 5, 127, 234, 2155, 234, 5148, 3, 1018, 3529, 9, 22, 1798, 64, 26, 57, 45, 7, 200, 5149, 3, 5150, 3, 379, 1, 93, 6, 27, 203, 52, 9, 35, 13, 168, 3, 214, 452, 40, 22, 611, 5151, 11, 1, 425, 2, 43, 3530, 3, 484, 442, 5152, 10, 1, 2154, 26, 166, 1799, 65], [25, 4, 411, 1017, 39, 19, 62, 1797, 11, 5146, 8, 17, 5147, 5, 127, 234, 2155, 234, 5148, 3, 1018, 3529, 9, 22, 1798, 64, 26, 57, 45, 7, 200, 5149, 3, 5150, 3, 379, 1, 93, 6, 27, 203, 52, 9, 35, 13, 168, 3, 214, 452, 40, 22, 611, 5151, 11, 1, 425, 2, 43, 3530, 3, 484, 442, 5152, 10, 1, 2154, 26, 166, 1799, 65, 101], [25, 4, 411, 1017, 39, 19, 62, 1797, 11, 5146, 8, 17, 5147, 5, 127, 234, 2155, 234, 5148, 3, 1018, 3529, 9, 22, 1798, 64, 26, 57, 45, 7, 200, 5149, 3, 5150, 3, 379, 1, 93, 6, 27, 203, 52, 9, 35, 13, 168, 3, 214, 452, 40, 22, 611, 5151, 11, 1, 425, 2, 43, 3530, 3, 484, 442, 5152, 10, 1, 2154, 26, 166, 1799, 65, 101, 793], [25, 4, 411, 1017, 39, 19, 62, 1797, 11, 5146, 8, 17, 5147, 5, 127, 234, 2155, 234, 5148, 3, 1018, 3529, 9, 22, 1798, 64, 26, 57, 45, 7, 200, 5149, 3, 5150, 3, 379, 1, 93, 6, 27, 203, 52, 9, 35, 13, 168, 3, 214, 452, 40, 22, 611, 5151, 11, 1, 425, 2, 43, 3530, 3, 484, 442, 5152, 10, 1, 2154, 26, 166, 1799, 65, 101, 793, 927], [25, 4, 411, 1017, 39, 19, 62, 1797, 11, 5146, 8, 17, 5147, 5, 127, 234, 2155, 234, 5148, 3, 1018, 3529, 9, 22, 1798, 64, 26, 57, 45, 7, 200, 5149, 3, 5150, 3, 379, 1, 93, 6, 27, 203, 52, 9, 35, 13, 168, 3, 214, 452, 40, 22, 611, 5151, 11, 1, 425, 2, 43, 3530, 3, 484, 442, 5152, 10, 1, 2154, 26, 166, 1799, 65, 101, 793, 927, 2], [25, 4, 411, 1017, 39, 19, 62, 1797, 11, 5146, 8, 17, 5147, 5, 127, 234, 2155, 234, 5148, 3, 1018, 3529, 9, 22, 1798, 64, 26, 57, 45, 7, 200, 5149, 3, 5150, 3, 379, 1, 93, 6, 27, 203, 52, 9, 35, 13, 168, 3, 214, 452, 40, 22, 611, 5151, 11, 1, 425, 2, 43, 3530, 3, 484, 442, 5152, 10, 1, 2154, 26, 166, 1799, 65, 101, 793, 927, 2, 2692], [25, 4, 411, 1017, 39, 19, 62, 1797, 11, 5146, 8, 17, 5147, 5, 127, 234, 2155, 234, 5148, 3, 1018, 3529, 9, 22, 1798, 64, 26, 57, 45, 7, 200, 5149, 3, 5150, 3, 379, 1, 93, 6, 27, 203, 52, 9, 35, 13, 168, 3, 214, 452, 40, 22, 611, 5151, 11, 1, 425, 2, 43, 3530, 3, 484, 442, 5152, 10, 1, 2154, 26, 166, 1799, 65, 101, 793, 927, 2, 2692, 93], [25, 4, 411, 1017, 39, 19, 62, 1797, 11, 5146, 8, 17, 5147, 5, 127, 234, 2155, 234, 5148, 3, 1018, 3529, 9, 22, 1798, 64, 26, 57, 45, 7, 200, 5149, 3, 5150, 3, 379, 1, 93, 6, 27, 203, 52, 9, 35, 13, 168, 3, 214, 452, 40, 22, 611, 5151, 11, 1, 425, 2, 43, 3530, 3, 484, 442, 5152, 10, 1, 2154, 26, 166, 1799, 65, 101, 793, 927, 2, 2692, 93, 43], [25, 4, 411, 1017, 39, 19, 62, 1797, 11, 5146, 8, 17, 5147, 5, 127, 234, 2155, 234, 5148, 3, 1018, 3529, 9, 22, 1798, 64, 26, 57, 45, 7, 200, 5149, 3, 5150, 3, 379, 1, 93, 6, 27, 203, 52, 9, 35, 13, 168, 3, 214, 452, 40, 22, 611, 5151, 11, 1, 425, 2, 43, 3530, 3, 484, 442, 5152, 10, 1, 2154, 26, 166, 1799, 65, 101, 793, 927, 2, 2692, 93, 43, 10], [25, 4, 411, 1017, 39, 19, 62, 1797, 11, 5146, 8, 17, 5147, 5, 127, 234, 2155, 234, 5148, 3, 1018, 3529, 9, 22, 1798, 64, 26, 57, 45, 7, 200, 5149, 3, 5150, 3, 379, 1, 93, 6, 27, 203, 52, 9, 35, 13, 168, 3, 214, 452, 40, 22, 611, 5151, 11, 1, 425, 2, 43, 3530, 3, 484, 442, 5152, 10, 1, 2154, 26, 166, 1799, 65, 101, 793, 927, 2, 2692, 93, 43, 10, 1], [25, 4, 411, 1017, 39, 19, 62, 1797, 11, 5146, 8, 17, 5147, 5, 127, 234, 2155, 234, 5148, 3, 1018, 3529, 9, 22, 1798, 64, 26, 57, 45, 7, 200, 5149, 3, 5150, 3, 379, 1, 93, 6, 27, 203, 52, 9, 35, 13, 168, 3, 214, 452, 40, 22, 611, 5151, 11, 1, 425, 2, 43, 3530, 3, 484, 442, 5152, 10, 1, 2154, 26, 166, 1799, 65, 101, 793, 927, 2, 2692, 93, 43, 10, 1, 94], [25, 4, 411, 1017, 39, 19, 62, 1797, 11, 5146, 8, 17, 5147, 5, 127, 234, 2155, 234, 5148, 3, 1018, 3529, 9, 22, 1798, 64, 26, 57, 45, 7, 200, 5149, 3, 5150, 3, 379, 1, 93, 6, 27, 203, 52, 9, 35, 13, 168, 3, 214, 452, 40, 22, 611, 5151, 11, 1, 425, 2, 43, 3530, 3, 484, 442, 5152, 10, 1, 2154, 26, 166, 1799, 65, 101, 793, 927, 2, 2692, 93, 43, 10, 1, 94, 927], [25, 4, 411, 1017, 39, 19, 62, 1797, 11, 5146, 8, 17, 5147, 5, 127, 234, 2155, 234, 5148, 3, 1018, 3529, 9, 22, 1798, 64, 26, 57, 45, 7, 200, 5149, 3, 5150, 3, 379, 1, 93, 6, 27, 203, 52, 9, 35, 13, 168, 3, 214, 452, 40, 22, 611, 5151, 11, 1, 425, 2, 43, 3530, 3, 484, 442, 5152, 10, 1, 2154, 26, 166, 1799, 65, 101, 793, 927, 2, 2692, 93, 43, 10, 1, 94, 927, 12], [25, 4, 411, 1017, 39, 19, 62, 1797, 11, 5146, 8, 17, 5147, 5, 127, 234, 2155, 234, 5148, 3, 1018, 3529, 9, 22, 1798, 64, 26, 57, 45, 7, 200, 5149, 3, 5150, 3, 379, 1, 93, 6, 27, 203, 52, 9, 35, 13, 168, 3, 214, 452, 40, 22, 611, 5151, 11, 1, 425, 2, 43, 3530, 3, 484, 442, 5152, 10, 1, 2154, 26, 166, 1799, 65, 101, 793, 927, 2, 2692, 93, 43, 10, 1, 94, 927, 12, 5], [25, 4, 411, 1017, 39, 19, 62, 1797, 11, 5146, 8, 17, 5147, 5, 127, 234, 2155, 234, 5148, 3, 1018, 3529, 9, 22, 1798, 64, 26, 57, 45, 7, 200, 5149, 3, 5150, 3, 379, 1, 93, 6, 27, 203, 52, 9, 35, 13, 168, 3, 214, 452, 40, 22, 611, 5151, 11, 1, 425, 2, 43, 3530, 3, 484, 442, 5152, 10, 1, 2154, 26, 166, 1799, 65, 101, 793, 927, 2, 2692, 93, 43, 10, 1, 94, 927, 12, 5, 1], [25, 4, 411, 1017, 39, 19, 62, 1797, 11, 5146, 8, 17, 5147, 5, 127, 234, 2155, 234, 5148, 3, 1018, 3529, 9, 22, 1798, 64, 26, 57, 45, 7, 200, 5149, 3, 5150, 3, 379, 1, 93, 6, 27, 203, 52, 9, 35, 13, 168, 3, 214, 452, 40, 22, 611, 5151, 11, 1, 425, 2, 43, 3530, 3, 484, 442, 5152, 10, 1, 2154, 26, 166, 1799, 65, 101, 793, 927, 2, 2692, 93, 43, 10, 1, 94, 927, 12, 5, 1, 225], [25, 4, 411, 1017, 39, 19, 62, 1797, 11, 5146, 8, 17, 5147, 5, 127, 234, 2155, 234, 5148, 3, 1018, 3529, 9, 22, 1798, 64, 26, 57, 45, 7, 200, 5149, 3, 5150, 3, 379, 1, 93, 6, 27, 203, 52, 9, 35, 13, 168, 3, 214, 452, 40, 22, 611, 5151, 11, 1, 425, 2, 43, 3530, 3, 484, 442, 5152, 10, 1, 2154, 26, 166, 1799, 65, 101, 793, 927, 2, 2692, 93, 43, 10, 1, 94, 927, 12, 5, 1, 225, 2], [25, 4, 411, 1017, 39, 19, 62, 1797, 11, 5146, 8, 17, 5147, 5, 127, 234, 2155, 234, 5148, 3, 1018, 3529, 9, 22, 1798, 64, 26, 57, 45, 7, 200, 5149, 3, 5150, 3, 379, 1, 93, 6, 27, 203, 52, 9, 35, 13, 168, 3, 214, 452, 40, 22, 611, 5151, 11, 1, 425, 2, 43, 3530, 3, 484, 442, 5152, 10, 1, 2154, 26, 166, 1799, 65, 101, 793, 927, 2, 2692, 93, 43, 10, 1, 94, 927, 12, 5, 1, 225, 2, 426], [25, 4, 411, 1017, 39, 19, 62, 1797, 11, 5146, 8, 17, 5147, 5, 127, 234, 2155, 234, 5148, 3, 1018, 3529, 9, 22, 1798, 64, 26, 57, 45, 7, 200, 5149, 3, 5150, 3, 379, 1, 93, 6, 27, 203, 52, 9, 35, 13, 168, 3, 214, 452, 40, 22, 611, 5151, 11, 1, 425, 2, 43, 3530, 3, 484, 442, 5152, 10, 1, 2154, 26, 166, 1799, 65, 101, 793, 927, 2, 2692, 93, 43, 10, 1, 94, 927, 12, 5, 1, 225, 2, 426, 3], [25, 4, 411, 1017, 39, 19, 62, 1797, 11, 5146, 8, 17, 5147, 5, 127, 234, 2155, 234, 5148, 3, 1018, 3529, 9, 22, 1798, 64, 26, 57, 45, 7, 200, 5149, 3, 5150, 3, 379, 1, 93, 6, 27, 203, 52, 9, 35, 13, 168, 3, 214, 452, 40, 22, 611, 5151, 11, 1, 425, 2, 43, 3530, 3, 484, 442, 5152, 10, 1, 2154, 26, 166, 1799, 65, 101, 793, 927, 2, 2692, 93, 43, 10, 1, 94, 927, 12, 5, 1, 225, 2, 426, 3, 1800], [25, 4, 411, 1017, 39, 19, 62, 1797, 11, 5146, 8, 17, 5147, 5, 127, 234, 2155, 234, 5148, 3, 1018, 3529, 9, 22, 1798, 64, 26, 57, 45, 7, 200, 5149, 3, 5150, 3, 379, 1, 93, 6, 27, 203, 52, 9, 35, 13, 168, 3, 214, 452, 40, 22, 611, 5151, 11, 1, 425, 2, 43, 3530, 3, 484, 442, 5152, 10, 1, 2154, 26, 166, 1799, 65, 101, 793, 927, 2, 2692, 93, 43, 10, 1, 94, 927, 12, 5, 1, 225, 2, 426, 3, 1800, 927], [25, 4, 411, 1017, 39, 19, 62, 1797, 11, 5146, 8, 17, 5147, 5, 127, 234, 2155, 234, 5148, 3, 1018, 3529, 9, 22, 1798, 64, 26, 57, 45, 7, 200, 5149, 3, 5150, 3, 379, 1, 93, 6, 27, 203, 52, 9, 35, 13, 168, 3, 214, 452, 40, 22, 611, 5151, 11, 1, 425, 2, 43, 3530, 3, 484, 442, 5152, 10, 1, 2154, 26, 166, 1799, 65, 101, 793, 927, 2, 2692, 93, 43, 10, 1, 94, 927, 12, 5, 1, 225, 2, 426, 3, 1800, 927, 22], [25, 4, 411, 1017, 39, 19, 62, 1797, 11, 5146, 8, 17, 5147, 5, 127, 234, 2155, 234, 5148, 3, 1018, 3529, 9, 22, 1798, 64, 26, 57, 45, 7, 200, 5149, 3, 5150, 3, 379, 1, 93, 6, 27, 203, 52, 9, 35, 13, 168, 3, 214, 452, 40, 22, 611, 5151, 11, 1, 425, 2, 43, 3530, 3, 484, 442, 5152, 10, 1, 2154, 26, 166, 1799, 65, 101, 793, 927, 2, 2692, 93, 43, 10, 1, 94, 927, 12, 5, 1, 225, 2, 426, 3, 1800, 927, 22, 14], [25, 4, 411, 1017, 39, 19, 62, 1797, 11, 5146, 8, 17, 5147, 5, 127, 234, 2155, 234, 5148, 3, 1018, 3529, 9, 22, 1798, 64, 26, 57, 45, 7, 200, 5149, 3, 5150, 3, 379, 1, 93, 6, 27, 203, 52, 9, 35, 13, 168, 3, 214, 452, 40, 22, 611, 5151, 11, 1, 425, 2, 43, 3530, 3, 484, 442, 5152, 10, 1, 2154, 26, 166, 1799, 65, 101, 793, 927, 2, 2692, 93, 43, 10, 1, 94, 927, 12, 5, 1, 225, 2, 426, 3, 1800, 927, 22, 14, 157]]\n"
          ],
          "name": "stdout"
        }
      ]
    },
    {
      "cell_type": "code",
      "metadata": {
        "colab": {
          "base_uri": "https://localhost:8080/"
        },
        "id": "jBGrZFJU_9VT",
        "outputId": "966906e6-cc83-469d-8080-bcb137baa4d3"
      },
      "source": [
        "# get info about the sentence lengths\n",
        "longest_sentence_length = max([len(x) for x in input_sequences])\n",
        "print(\"Longest sentence length: \", longest_sentence_length)\n",
        "\n",
        "# pad sequences to the same length\n",
        "input_sequences = numpy.array(pad_sequences(input_sequences))\n",
        "\n",
        "# create predictors and label\n",
        "x_train, y_train = input_sequences[:, :-1], input_sequences[:, -1]\n",
        "y_train = ku.to_categorical(y_train, num_classes=number_unique_words)\n",
        "\n",
        "print(x_train.shape)\n",
        "print(y_train.shape)\n"
      ],
      "execution_count": 6,
      "outputs": [
        {
          "output_type": "stream",
          "text": [
            "Longest sentence length:  455\n",
            "(97614, 454)\n",
            "(97614, 9959)\n"
          ],
          "name": "stdout"
        }
      ]
    },
    {
      "cell_type": "code",
      "metadata": {
        "id": "0G_ptRcOAAb1"
      },
      "source": [
        "# create lstm and blstm models\n",
        "\n",
        "def create_lstm():\n",
        "    lstm = Sequential(\n",
        "        [\n",
        "         Embedding(number_unique_words, 25, input_length=longest_sentence_length-1), # first layer shape needs to be specified; the rest will infer by self\n",
        "         LSTM(100),\n",
        "         Dense(number_unique_words, activation='softmax') # softmax because multi-class classification\n",
        "        ]\n",
        "    )\n",
        "    lstm.compile(loss='categorical_crossentropy', optimizer='adam', metrics=['accuracy'])\n",
        "\n",
        "    # print a summary of our model's structure\n",
        "    # output_array = lstm.predict(input_sequences)\n",
        "    # print(output_array.shape)\n",
        "\n",
        "    return lstm\n",
        "\n",
        "def create_blstm():\n",
        "    blstm = Sequential(\n",
        "        [\n",
        "         Embedding(number_unique_words, 25, input_length=longest_sentence_length-1),\n",
        "         Bidirectional(LSTM(100, return_sequences=True)),\n",
        "         Bidirectional(LSTM(100)),\n",
        "         Dense(number_unique_words, activation='softmax')\n",
        "        ]\n",
        "    )\n",
        "\n",
        "    blstm.compile(loss='categorical_crossentropy', optimizer='adam', metrics=['accuracy'])\n",
        "    return blstm\n",
        "\n",
        "\n",
        "\n",
        "lstm = create_lstm()\n",
        "blstm = create_blstm()\n",
        "\n",
        "# print(lstm.summary())\n",
        "# print(blstm.summary())"
      ],
      "execution_count": 7,
      "outputs": []
    },
    {
      "cell_type": "code",
      "metadata": {
        "id": "s9uQHjJVACxM"
      },
      "source": [
        "# train our models\n",
        "\n",
        "def train_lstm(epochs):\n",
        "    history_lstm = lstm.fit(x_train, y_train, epochs=epochs, verbose=1)\n",
        "\n",
        "    # matlab plot\n",
        "    acc = history_lstm.history['accuracy']\n",
        "    loss = history_lstm.history['loss']\n",
        "    epochs = range(len(acc))\n",
        "    plt.plot(epochs, acc, 'b', label='Training accuracy')\n",
        "    plt.title('Training accuracy')\n",
        "    plt.figure()\n",
        "    plt.plot(epochs, loss, 'b', label='Training Loss')\n",
        "    plt.title('Training loss')\n",
        "    plt.legend()\n",
        "    plt.show()\n",
        "\n",
        "def train_blstm(epochs):\n",
        "    history_blstm = blstm.fit(x_train, y_train, epochs=epochs, verbose=1)\n",
        "    acc = history_blstm.history['accuracy']\n",
        "    loss = history_blstm.history['loss']\n",
        "    epochs = range(len(acc))\n",
        "    plt.plot(epochs, acc, 'b', label='Training accuracy')\n",
        "    plt.title('Training accuracy')\n",
        "    plt.figure()\n",
        "    plt.plot(epochs, loss, 'b', label='Training Loss')\n",
        "    plt.title('Training loss')\n",
        "    plt.legend()\n",
        "    plt.show()\n",
        "\n",
        "\n",
        "# train_lstm(10)\n",
        "train_blstm(10)"
      ],
      "execution_count": null,
      "outputs": []
    },
    {
      "cell_type": "code",
      "metadata": {
        "id": "ZtkN8S65dw2w"
      },
      "source": [
        "def get_model_prediction(model, seed_text, desired_output_length):\n",
        "    output_text = seed_text\n",
        "    for i in range(desired_output_length):\n",
        "        token_list = tokenizer.texts_to_sequences([output_text])[0]\n",
        "        token_list = pad_sequences([token_list], maxlen=longest_sentence_length-1)\n",
        "\n",
        "        prediction = model.predict_classes(token_list, verbose=0)\n",
        "        # print(tokenizer.word_index.items())\n",
        "\n",
        "        for word, index in tokenizer.word_index.items():\n",
        "            if index == prediction:\n",
        "                output_text += ' ' + word\n",
        "                break\n",
        "    \n",
        "    return output_text"
      ],
      "execution_count": null,
      "outputs": []
    },
    {
      "cell_type": "code",
      "metadata": {
        "id": "Kiu-GF5BAFoz"
      },
      "source": [
        "def main():\n",
        "    # args = parse_args()\n",
        "    # epochs = args.epochs\n",
        "\n",
        "    seed_text = \"We are\"\n",
        "    desired_output_length = 30\n",
        "\n",
        "    # lstm_model = train_lstm(epochs)\n",
        "    # blstm_model = train_blstm(epochs)\n",
        "\n",
        "    lstm_prediction = get_model_prediction(lstm, seed_text, desired_output_length)\n",
        "    blstm_prediction = get_model_prediction(blstm, seed_text, desired_output_length)\n",
        "\n",
        "    print(\"\\nLSTM generated: \", lstm_prediction)\n",
        "    print(\"\\nBLSTM generated: \", blstm_prediction)\n",
        "\n",
        "main()\n"
      ],
      "execution_count": null,
      "outputs": []
    }
  ]
}